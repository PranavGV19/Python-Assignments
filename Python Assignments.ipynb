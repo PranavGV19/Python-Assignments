{
 "cells": [
  {
   "cell_type": "code",
   "execution_count": 1,
   "id": "85a3aa87",
   "metadata": {},
   "outputs": [
    {
     "name": "stdout",
     "output_type": "stream",
     "text": [
      "Welcome to Assignment-1\n"
     ]
    }
   ],
   "source": [
    "print(\"Welcome to Assignment-1\")"
   ]
  },
  {
   "cell_type": "code",
   "execution_count": 2,
   "id": "1443a4f1",
   "metadata": {},
   "outputs": [
    {
     "name": "stdout",
     "output_type": "stream",
     "text": [
      "\n",
      "Num1 = 10\n",
      "Num2 = 30\n",
      "Add = 40\n",
      "\n"
     ]
    }
   ],
   "source": [
    "num1 = 10\n",
    "num2 = 30\n",
    "add = num1+num2\n",
    "print(f\"\"\"\n",
    "Num1 = {num1}\n",
    "Num2 = {num2}\n",
    "Add = {add}\n",
    "\"\"\"\n",
    ")"
   ]
  },
  {
   "cell_type": "code",
   "execution_count": 4,
   "id": "c1d65a4d",
   "metadata": {},
   "outputs": [
    {
     "name": "stdout",
     "output_type": "stream",
     "text": [
      "Enter your body mass index: 34\n",
      "Very Overweight\n"
     ]
    }
   ],
   "source": [
    "bmi = int(input(\"Enter your body mass index: \"))\n",
    "if bmi<16:\n",
    "    print(\"Severely underweight\")\n",
    "elif bmi<18.4:\n",
    "    print(\"Underweight\")\n",
    "elif bmi<24.9:\n",
    "    print(\"Normal\")\n",
    "elif bmi<33.9:\n",
    "    print(\"Overweight\")\n",
    "else:\n",
    "    print(\"Very Overweight\")\n",
    "\n"
   ]
  },
  {
   "cell_type": "code",
   "execution_count": null,
   "id": "1382bacb",
   "metadata": {},
   "outputs": [],
   "source": [
    "#EXTRA 1"
   ]
  },
  {
   "cell_type": "code",
   "execution_count": 5,
   "id": "c063d0d4",
   "metadata": {},
   "outputs": [
    {
     "name": "stdout",
     "output_type": "stream",
     "text": [
      "HOPE AI\n"
     ]
    }
   ],
   "source": [
    "print(\"HOPE AI\")"
   ]
  },
  {
   "cell_type": "code",
   "execution_count": 7,
   "id": "7670dad8",
   "metadata": {},
   "outputs": [
    {
     "name": "stdout",
     "output_type": "stream",
     "text": [
      "Enter your institute name: HOPE AI\n"
     ]
    }
   ],
   "source": [
    "name = input(\"Enter your institute name: \")"
   ]
  },
  {
   "cell_type": "code",
   "execution_count": 8,
   "id": "3c950c4b",
   "metadata": {},
   "outputs": [
    {
     "name": "stdout",
     "output_type": "stream",
     "text": [
      "Enter your name: Raj\n",
      "Enter your age: 15\n",
      "Enter your school: Guru School\n",
      "Enter your degree: B.E CSE\n"
     ]
    }
   ],
   "source": [
    "name = input(\"Enter your name: \")\n",
    "age = int(input(\"Enter your age: \"))\n",
    "scl = input(\"Enter your school: \")\n",
    "deg = input(\"Enter your degree: \")"
   ]
  },
  {
   "cell_type": "code",
   "execution_count": 12,
   "id": "79c2dc4b",
   "metadata": {},
   "outputs": [
    {
     "name": "stdout",
     "output_type": "stream",
     "text": [
      "\n",
      "a = 43\n",
      "b = 34\n",
      "add = 77\n",
      "\n"
     ]
    }
   ],
   "source": [
    "a = 43\n",
    "b = 34\n",
    "add = a+b\n",
    "print(f'''\n",
    "a = {a}\n",
    "b = {b}\n",
    "add = {add}\n",
    "''')"
   ]
  },
  {
   "cell_type": "code",
   "execution_count": 13,
   "id": "5a69fc8b",
   "metadata": {},
   "outputs": [
    {
     "name": "stdout",
     "output_type": "stream",
     "text": [
      "\n",
      "a = 43\n",
      "b = 34\n",
      "sub = 9\n",
      "\n"
     ]
    }
   ],
   "source": [
    "a = 43\n",
    "b = 34\n",
    "sub = a-b\n",
    "print(f'''\n",
    "a = {a}\n",
    "b = {b}\n",
    "sub = {sub}\n",
    "''')"
   ]
  },
  {
   "cell_type": "code",
   "execution_count": 14,
   "id": "4e00f6af",
   "metadata": {},
   "outputs": [
    {
     "name": "stdout",
     "output_type": "stream",
     "text": [
      "\n",
      "a = 63\n",
      "b = 97\n",
      "mul = 6111\n",
      "\n"
     ]
    }
   ],
   "source": [
    "a = 63\n",
    "b = 97\n",
    "mul=a*b\n",
    "print(f'''\n",
    "a = {a}\n",
    "b = {b}\n",
    "mul = {mul}\n",
    "''')"
   ]
  },
  {
   "cell_type": "code",
   "execution_count": 15,
   "id": "e907edf0",
   "metadata": {},
   "outputs": [
    {
     "name": "stdout",
     "output_type": "stream",
     "text": [
      "\n",
      "a = 76\n",
      "b = 31\n",
      "Float Division = 2.4516129032258065\n",
      "\n"
     ]
    }
   ],
   "source": [
    "a= 76\n",
    "b= 31\n",
    "fl_div = a/b\n",
    "print(f'''\n",
    "a = {a}\n",
    "b = {b}\n",
    "Float Division = {fl_div}\n",
    "''')"
   ]
  },
  {
   "cell_type": "code",
   "execution_count": 16,
   "id": "36727826",
   "metadata": {},
   "outputs": [
    {
     "name": "stdout",
     "output_type": "stream",
     "text": [
      "\n",
      "a = 76\n",
      "b = 31\n",
      "Floor Division = 2\n",
      "\n"
     ]
    }
   ],
   "source": [
    "a= 76\n",
    "b= 31\n",
    "fl_div = a//b\n",
    "print(f'''\n",
    "a = {a}\n",
    "b = {b}\n",
    "Floor Division = {fl_div}\n",
    "''')"
   ]
  },
  {
   "cell_type": "code",
   "execution_count": 17,
   "id": "7964c794",
   "metadata": {},
   "outputs": [
    {
     "name": "stdout",
     "output_type": "stream",
     "text": [
      "\n",
      "a = 76\n",
      "b = 31\n",
      "Modullo = 14\n",
      "\n"
     ]
    }
   ],
   "source": [
    "a= 76\n",
    "b= 31\n",
    "mod = a%b\n",
    "print(f'''\n",
    "a = {a}\n",
    "b = {b}\n",
    "Modullo = {mod}\n",
    "''')"
   ]
  },
  {
   "cell_type": "code",
   "execution_count": 18,
   "id": "b541ccd8",
   "metadata": {},
   "outputs": [
    {
     "name": "stdout",
     "output_type": "stream",
     "text": [
      "\n",
      "a = 4\n",
      "b = 4\n",
      "Power = 256\n",
      "\n"
     ]
    }
   ],
   "source": [
    "a = 4\n",
    "b = 4\n",
    "pow = a**b\n",
    "print(f'''\n",
    "a = {a}\n",
    "b = {b}\n",
    "Power = {pow}\n",
    "''')"
   ]
  },
  {
   "cell_type": "code",
   "execution_count": null,
   "id": "8ae9c048",
   "metadata": {},
   "outputs": [],
   "source": []
  }
 ],
 "metadata": {
  "kernelspec": {
   "display_name": "Python 3 (ipykernel)",
   "language": "python",
   "name": "python3"
  },
  "language_info": {
   "codemirror_mode": {
    "name": "ipython",
    "version": 3
   },
   "file_extension": ".py",
   "mimetype": "text/x-python",
   "name": "python",
   "nbconvert_exporter": "python",
   "pygments_lexer": "ipython3",
   "version": "3.11.7"
  }
 },
 "nbformat": 4,
 "nbformat_minor": 5
}
